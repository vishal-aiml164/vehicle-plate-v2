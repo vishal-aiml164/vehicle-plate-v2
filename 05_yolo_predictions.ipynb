{
 "cells": [
  {
   "cell_type": "markdown",
   "id": "0954bf5f",
   "metadata": {},
   "source": [
    "# In this Notebook we perform the following activities\n",
    "\n",
    "### 1. Import the required Libraries\n",
    "### 2. Setting up the Input Width and Length\n",
    "### 3. Loading the Trained Model\n",
    "### 4. Performing the Detections, NMS, drawing Rectangles and extracting the Text Info\n",
    "### 5. Sample Test Image\n",
    "### 6. Real Time Video Detection\n",
    "\n"
   ]
  },
  {
   "cell_type": "markdown",
   "id": "c2c042c4",
   "metadata": {},
   "source": [
    "### 1. Import the required Libraries"
   ]
  },
  {
   "cell_type": "code",
   "execution_count": null,
   "id": "536f7c5a",
   "metadata": {},
   "outputs": [],
   "source": [
    "import cv2\n",
    "import numpy as np\n",
    "import os\n",
    "import pytesseract as pt"
   ]
  },
  {
   "cell_type": "code",
   "execution_count": null,
   "id": "2a713a71",
   "metadata": {},
   "outputs": [],
   "source": [
    "!python -m pip install opencv-python"
   ]
  },
  {
   "cell_type": "code",
   "execution_count": null,
   "id": "86ad73b2",
   "metadata": {},
   "outputs": [],
   "source": [
    "import pytesseract as pt"
   ]
  },
  {
   "cell_type": "code",
   "execution_count": null,
   "id": "4e5a80ee",
   "metadata": {},
   "outputs": [],
   "source": [
    "!pip install --user pytesseract"
   ]
  },
  {
   "cell_type": "markdown",
   "id": "839d4437",
   "metadata": {},
   "source": [
    "### 2. Setting up the Input Width and Length"
   ]
  },
  {
   "cell_type": "code",
   "execution_count": null,
   "id": "4b07ba3f",
   "metadata": {},
   "outputs": [],
   "source": [
    "# settings\n",
    "INPUT_WIDTH =  640\n",
    "INPUT_HEIGHT = 640"
   ]
  },
  {
   "cell_type": "code",
   "execution_count": null,
   "id": "da954801",
   "metadata": {},
   "outputs": [],
   "source": [
    "# LOAD THE IMAGE\n",
    "img = cv2.imread('C:\\\\Users\\\\DELL\\\\anaconda3\\\\CS_2\\\\vehicle_plate\\\\Project_Files\\\\test_images\\\\getty_sample.jpg')\n",
    "\n",
    "cv2.namedWindow('test image',cv2.WINDOW_KEEPRATIO)\n",
    "cv2.imshow('test image',img)\n",
    "cv2.waitKey()\n",
    "cv2.destroyAllWindows()"
   ]
  },
  {
   "cell_type": "markdown",
   "id": "534cbbd3",
   "metadata": {},
   "source": [
    "### 3. Loading the Trained Model"
   ]
  },
  {
   "cell_type": "code",
   "execution_count": null,
   "id": "daa13ec3",
   "metadata": {},
   "outputs": [],
   "source": [
    "# LOAD YOLO MODEL\n",
    "net = cv2.dnn.readNetFromONNX('C:\\\\Users\\\\DELL\\\\anaconda3\\\\CS_2\\\\vehicle_plate\\\\Project_Files\\\\Model42\\\\weights\\\\best.onnx')\n",
    "net.setPreferableBackend(cv2.dnn.DNN_BACKEND_OPENCV)\n",
    "net.setPreferableTarget(cv2.dnn.DNN_TARGET_CPU)"
   ]
  },
  {
   "cell_type": "markdown",
   "id": "390464fb",
   "metadata": {},
   "source": [
    "### 4. Performing the Detections, NMS, drawing Rectangles and extracting the Text Info"
   ]
  },
  {
   "cell_type": "code",
   "execution_count": null,
   "id": "ac2f4c81",
   "metadata": {},
   "outputs": [],
   "source": [
    "def get_detections(img,net):\n",
    "    # CONVERT IMAGE TO YOLO FORMAT\n",
    "    image = img.copy()\n",
    "    row, col, d = image.shape\n",
    "\n",
    "    max_rc = max(row,col)\n",
    "    input_image = np.zeros((max_rc,max_rc,3),dtype=np.uint8)\n",
    "    input_image[0:row,0:col] = image\n",
    "\n",
    "    # GET PREDICTION FROM YOLO MODEL\n",
    "    blob = cv2.dnn.blobFromImage(input_image,1/255,(INPUT_WIDTH,INPUT_HEIGHT),swapRB=True,crop=False)\n",
    "    net.setInput(blob)\n",
    "    preds = net.forward()\n",
    "    detections = preds[0]\n",
    "    \n",
    "    return input_image, detections\n",
    "\n",
    "def non_maximum_supression(input_image,detections):\n",
    "    # FILTER DETECTIONS BASED ON CONFIDENCE AND PROBABILIY SCORE\n",
    "    # center x, center y, w , h, conf, proba\n",
    "    boxes = []\n",
    "    confidences = []\n",
    "\n",
    "    image_w, image_h = input_image.shape[:2]\n",
    "    x_factor = image_w/INPUT_WIDTH\n",
    "    y_factor = image_h/INPUT_HEIGHT\n",
    "\n",
    "    for i in range(len(detections)):\n",
    "        row = detections[i]\n",
    "        confidence = row[4] # confidence of detecting license plate\n",
    "        if confidence > 0.4:\n",
    "            class_score = row[5] # probability score of license plate\n",
    "            if class_score > 0.25:\n",
    "                cx, cy , w, h = row[0:4]\n",
    "\n",
    "                left = int((cx - 0.5*w)*x_factor)\n",
    "                top = int((cy-0.5*h)*y_factor)\n",
    "                width = int(w*x_factor)\n",
    "                height = int(h*y_factor)\n",
    "                box = np.array([left,top,width,height])\n",
    "\n",
    "                confidences.append(confidence)\n",
    "                boxes.append(box)\n",
    "\n",
    "    # clean\n",
    "    boxes_np = np.array(boxes).tolist()\n",
    "    confidences_np = np.array(confidences).tolist()\n",
    "    # NMS\n",
    "    index = cv2.dnn.NMSBoxes(boxes_np,confidences_np,0.25,0.45).flatten()\n",
    "    \n",
    "    return boxes_np, confidences_np, index\n",
    "\n",
    "def drawings(image,boxes_np,confidences_np,index):\n",
    "    # drawings\n",
    "    for ind in index:\n",
    "        x,y,w,h =  boxes_np[ind]\n",
    "        bb_conf = confidences_np[ind]\n",
    "        conf_text = 'plate: {:.0f}%'.format(bb_conf*100)\n",
    "        license_text = extract_text(image,boxes_np[ind])\n",
    "\n",
    "\n",
    "        cv2.rectangle(image,(x,y),(x+w,y+h),(255,0,255),2)\n",
    "        cv2.rectangle(image,(x,y-30),(x+w,y),(255,0,255),-1)\n",
    "        cv2.rectangle(image,(x,y+h),(x+w,y+h+30),(0,0,0),-1)\n",
    "        #cv2.rectangle(image,(x,y+h),(x+w,y+h+30))\n",
    "\n",
    "\n",
    "        cv2.putText(image,conf_text,(x,y-10),cv2.FONT_HERSHEY_SIMPLEX,0.7,(255,255,255),1)\n",
    "        cv2.putText(image,license_text,(x,y+h+27),cv2.FONT_HERSHEY_SIMPLEX,0.7,(0,255,0),1)\n",
    "\n",
    "    return image"
   ]
  },
  {
   "cell_type": "code",
   "execution_count": null,
   "id": "be542ab4",
   "metadata": {},
   "outputs": [],
   "source": [
    "# predictions\n",
    "def yolo_predictions(img,net):\n",
    "    ## step-1: detections\n",
    "    input_image, detections = get_detections(img,net)\n",
    "    ## step-2: NMS\n",
    "    boxes_np, confidences_np, index = non_maximum_supression(input_image, detections)\n",
    "    ## step-3: Drawings\n",
    "    result_img = drawings(img,boxes_np,confidences_np,index)\n",
    "    return result_img"
   ]
  },
  {
   "cell_type": "code",
   "execution_count": null,
   "id": "5e04d17d",
   "metadata": {},
   "outputs": [],
   "source": [
    "def extract_text(image,bbox):\n",
    "    x,y,w,h = bbox\n",
    "    roi = image[y:y+h, x:x+w]\n",
    "    \n",
    "    if 0 in roi.shape:\n",
    "        return ''\n",
    "    \n",
    "    else:\n",
    "        text = pt.image_to_string(roi)\n",
    "        text = text.strip()\n",
    "        \n",
    "        return text"
   ]
  },
  {
   "cell_type": "markdown",
   "id": "852b3faf",
   "metadata": {},
   "source": [
    "### 5. Sample Test Image"
   ]
  },
  {
   "cell_type": "code",
   "execution_count": null,
   "id": "ead6acba",
   "metadata": {},
   "outputs": [],
   "source": [
    "# test\n",
    "img = cv2.imread('C:\\\\Users\\\\DELL\\\\anaconda3\\\\CS_2\\\\vehicle_plate\\\\Project_Files\\\\test_images\\\\getty_sample.jpg')\n",
    "\n",
    "results = yolo_predictions(img,net)"
   ]
  },
  {
   "cell_type": "code",
   "execution_count": null,
   "id": "02ec7c44",
   "metadata": {},
   "outputs": [],
   "source": [
    "cv2.namedWindow('results',cv2.WINDOW_KEEPRATIO)\n",
    "cv2.imshow('results',results)\n",
    "cv2.waitKey()\n",
    "cv2.destroyAllWindows()"
   ]
  },
  {
   "cell_type": "markdown",
   "id": "a7c50b60",
   "metadata": {},
   "source": [
    "### 6. Real Time Video Detection"
   ]
  },
  {
   "cell_type": "code",
   "execution_count": null,
   "id": "ecb6fcc1",
   "metadata": {},
   "outputs": [],
   "source": [
    "cap = cv2.VideoCapture('C:\\\\Users\\\\DELL\\\\anaconda3\\\\CS_2\\\\vehicle_plate\\\\Project_Files\\\\test_images\\\\traffic.mp4')\n",
    "\n",
    "\n",
    "while True:\n",
    "    ret, frame = cap.read()\n",
    "    \n",
    "    if ret == False:\n",
    "        print('unable to read video')\n",
    "        break\n",
    "        \n",
    "    results = yolo_predictions(frame,net)\n",
    "    \n",
    "    cv2.namedWindow('YOLO',cv2.WINDOW_KEEPRATIO)\n",
    "    cv2.imshow('YOLO',results)\n",
    "    if cv2.waitKey(1) == 27:\n",
    "        break\n",
    "        \n",
    "cv2.destroyAllWindows()\n",
    "cap.release()"
   ]
  },
  {
   "cell_type": "code",
   "execution_count": null,
   "id": "d722462a",
   "metadata": {},
   "outputs": [],
   "source": []
  }
 ],
 "metadata": {
  "kernelspec": {
   "display_name": "Python 3 (ipykernel)",
   "language": "python",
   "name": "python3"
  },
  "language_info": {
   "codemirror_mode": {
    "name": "ipython",
    "version": 3
   },
   "file_extension": ".py",
   "mimetype": "text/x-python",
   "name": "python",
   "nbconvert_exporter": "python",
   "pygments_lexer": "ipython3",
   "version": "3.9.12"
  }
 },
 "nbformat": 4,
 "nbformat_minor": 5
}
